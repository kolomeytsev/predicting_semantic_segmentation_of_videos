{
 "cells": [
  {
   "cell_type": "code",
   "execution_count": 1,
   "metadata": {
    "colab": {
     "autoexec": {
      "startup": false,
      "wait_interval": 0
     }
    },
    "colab_type": "code",
    "collapsed": true,
    "id": "xZnwuod34vy4"
   },
   "outputs": [],
   "source": [
    "import os,zipfile\n",
    "import argparse\n",
    "import numpy as np\n",
    "import torch.utils.data\n",
    "from glob import glob\n",
    "from PIL import Image\n",
    "\n",
    "import matplotlib.pyplot as plt\n",
    "%matplotlib inline\n",
    "from scipy import misc\n",
    "import time\n",
    "from IPython import display\n",
    "\n",
    "import torch\n",
    "from torch import nn, optim\n",
    "from torch.autograd import Variable\n",
    "from torchvision import datasets, transforms\n",
    "from torchvision.utils import save_image\n",
    "from torch.utils.data import Dataset\n",
    "import torch.nn.functional as F\n",
    "\n",
    "from tqdm import tqdm\n",
    "from tqdm import tqdm_notebook\n",
    "import gc\n",
    "import json"
   ]
  },
  {
   "cell_type": "code",
   "execution_count": 2,
   "metadata": {
    "colab": {
     "autoexec": {
      "startup": false,
      "wait_interval": 0
     }
    },
    "colab_type": "code",
    "collapsed": true,
    "id": "fpBoFR5ExKxS"
   },
   "outputs": [],
   "source": [
    "class S2SNew(nn.Module):\n",
    "    def __init__(self, n_classes=2, input_frames=4, output_frames=1, mod_size=4):\n",
    "        super(S2SNew, self).__init__()\n",
    "        \"\"\"\n",
    "        :param input_frames: integer, number of previous frames\n",
    "        :param output_frames: integer, number of future frames to predict (semntoc segmentation)\n",
    "        :param n_classes: integer, number of classes in semantic segmentation (for now only 2)\n",
    "        \"\"\"\n",
    "        self.n_classes = n_classes\n",
    "        self.input_frames = input_frames\n",
    "        self.output_frames = output_frames\n",
    "        self.mod_size = mod_size\n",
    "        \n",
    "        self.maxpool = nn.MaxPool2d(kernel_size=2)\n",
    "        self.softmax = nn.Softmax2d()\n",
    "        # Layer 1 (reduced image)\n",
    "        self.conv_net_1 = nn.Sequential(nn.Conv2d(self.input_frames, self.mod_size * 32, \n",
    "                                                  kernel_size = 3, padding = 2),\n",
    "                                   nn.ReLU(),\n",
    "                                   nn.Conv2d(self.mod_size*32, self.mod_size*64, 3, padding=2, dilation=2),\n",
    "                                   nn.ReLU(),\n",
    "                                   nn.Conv2d(self.mod_size*64, self.mod_size*32, 3, padding=3, dilation=4),\n",
    "                                   nn.ReLU(),\n",
    "                                   nn.Conv2d(self.mod_size*32, self.output_frames, 3, padding=1),\n",
    "                                   nn.Sigmoid(),\n",
    "                                   nn.Upsample(scale_factor=2, mode='bilinear', align_corners=True))\n",
    "        # Layer 2 (full image + prediction from layer 1)\n",
    "        self.conv_net_2 = nn.Sequential(nn.Conv2d(self.input_frames + self.output_frames,\n",
    "                                                  self.mod_size * 32, kernel_size = 5, padding=2),\n",
    "                                   nn.ReLU(),\n",
    "                                   nn.Conv2d(self.mod_size*32, self.mod_size*64, 3, padding=3, dilation=2),\n",
    "                                   nn.ReLU(),\n",
    "                                   nn.Conv2d(self.mod_size*64, self.mod_size*32, 3, padding=3, dilation=4),\n",
    "                                   nn.ReLU(),\n",
    "                                   nn.Conv2d(self.mod_size*32, self.output_frames, 5, padding=2),\n",
    "                                   nn.Sigmoid())\n",
    "\n",
    "        \n",
    "    def forward(self, x):\n",
    "        \"\"\"\n",
    "        Encodes inputs to hidden representations and decodes back.\n",
    "\n",
    "        x: inputs, Variable of shape (batch_size, inp_size)\n",
    "        return: reconstructed objects, Variable of shape (batch_size, inp_size)\n",
    "        \"\"\"\n",
    "        x_reduced = self.maxpool(x)\n",
    "        layer_1_result = self.conv_net_1(x_reduced)\n",
    "        result = self.conv_net_2(torch.cat((x, layer_1_result), dim=1))\n",
    "        result = (result + layer_1_result) * 0.5 # skip connection\n",
    "        #return self.softmax(result)\n",
    "        return result"
   ]
  },
  {
   "cell_type": "code",
   "execution_count": 3,
   "metadata": {
    "colab": {
     "autoexec": {
      "startup": false,
      "wait_interval": 0
     }
    },
    "colab_type": "code",
    "collapsed": true,
    "id": "LPgPTcUkxKxj"
   },
   "outputs": [],
   "source": [
    "## сохранение модели\n",
    "save_dir = 'test/'\n",
    "def save_model(net, optim, epoch, ckpt_fname):\n",
    "    state_dict = net.state_dict()\n",
    "    for key in state_dict.keys():\n",
    "        state_dict[key] = state_dict[key].cpu()\n",
    "\n",
    "    torch.save({\n",
    "        'epoch': epoch,\n",
    "        'state_dict': state_dict,\n",
    "        'optimizer': optim},\n",
    "        ckpt_fname)"
   ]
  },
  {
   "cell_type": "code",
   "execution_count": 5,
   "metadata": {
    "colab": {
     "autoexec": {
      "startup": false,
      "wait_interval": 0
     },
     "base_uri": "https://localhost:8080/",
     "height": 70
    },
    "colab_type": "code",
    "collapsed": true,
    "executionInfo": {
     "elapsed": 293949,
     "status": "ok",
     "timestamp": 1528139764087,
     "user": {
      "displayName": "Екатерина Иванова",
      "photoUrl": "//lh6.googleusercontent.com/-J4E1oBSy4YQ/AAAAAAAAAAI/AAAAAAAAAlQ/msqlSmDCUJk/s50-c-k-no/photo.jpg",
      "userId": "108823813550030186923"
     },
     "user_tz": -180
    },
    "id": "Jr_48rMx2PP-",
    "outputId": "cbd1b797-537d-4501-fde4-9b54133f3c7b"
   },
   "outputs": [],
   "source": [
    "if not os.path.exists('170927_camera_5'):\n",
    "    print(\"images not found, downloading...\")\n",
    "    os.system(\"wget https://gobro.ams3.digitaloceanspaces.com/170927_camera_5.zip -O 170927_camera_5.zip\")\n",
    "    print(\"extracting...\")\n",
    "    os.system(\"unzip -a 170927_camera_5.zip && rm 170927_camera_5.zip\")\n",
    "    print(\"done\")\n",
    "    assert os.path.exists('170927_camera_5')"
   ]
  },
  {
   "cell_type": "code",
   "execution_count": null,
   "metadata": {
    "collapsed": true
   },
   "outputs": [],
   "source": [
    "zip = zipfile.ZipFile('170927_camera_5.zip')\n",
    "zip.extractall()"
   ]
  },
  {
   "cell_type": "code",
   "execution_count": null,
   "metadata": {
    "colab": {
     "autoexec": {
      "startup": false,
      "wait_interval": 0
     },
     "base_uri": "https://localhost:8080/",
     "height": 34
    },
    "colab_type": "code",
    "collapsed": true,
    "executionInfo": {
     "elapsed": 10659,
     "status": "ok",
     "timestamp": 1528139774944,
     "user": {
      "displayName": "Екатерина Иванова",
      "photoUrl": "//lh6.googleusercontent.com/-J4E1oBSy4YQ/AAAAAAAAAAI/AAAAAAAAAlQ/msqlSmDCUJk/s50-c-k-no/photo.jpg",
      "userId": "108823813550030186923"
     },
     "user_tz": -180
    },
    "id": "vSyeBSWu1c3v",
    "outputId": "27f7a795-2e8d-40e7-8044-f220d25512b7"
   },
   "outputs": [],
   "source": [
    "import requests\n",
    "\n",
    "def download_file_from_google_drive(id, destination):\n",
    "    URL = \"https://docs.google.com/uc?export=download\"\n",
    "\n",
    "    session = requests.Session()\n",
    "\n",
    "    response = session.get(URL, params = { 'id' : id }, stream = True)\n",
    "    token = get_confirm_token(response)\n",
    "\n",
    "    if token:\n",
    "        params = { 'id' : id, 'confirm' : token }\n",
    "        response = session.get(URL, params = params, stream = True)\n",
    "\n",
    "    save_response_content(response, destination)    \n",
    "\n",
    "def get_confirm_token(response):\n",
    "    for key, value in response.cookies.items():\n",
    "        if key.startswith('download_warning'):\n",
    "            return value\n",
    "\n",
    "    return None\n",
    "\n",
    "def save_response_content(response, destination):\n",
    "    CHUNK_SIZE = 32768\n",
    "\n",
    "    with open(destination, \"wb\") as f:\n",
    "        for chunk in response.iter_content(CHUNK_SIZE):\n",
    "            if chunk: # filter out keep-alive new chunks\n",
    "                f.write(chunk)\n",
    "\n",
    "if __name__ == \"__main__\":\n",
    "    file_id = '1Tehyln7qG8fclLfA9oDvuUzPgFpJyr9V'\n",
    "    destination = '170927_camera_5_label.zip'\n",
    "    download_file_from_google_drive(file_id, destination)\n",
    "\n",
    "    \n",
    "#os.system(\"unzip -a 170927_camera_5_label.zip && rm 170927_camera_5_label.zip\")\n"
   ]
  },
  {
   "cell_type": "code",
   "execution_count": 6,
   "metadata": {
    "colab": {
     "autoexec": {
      "startup": false,
      "wait_interval": 0
     }
    },
    "colab_type": "code",
    "collapsed": true,
    "id": "aZd1NUkVUQRT"
   },
   "outputs": [],
   "source": [
    "if not os.path.exists('170927_camera_5_label'):\n",
    "    print(\"images not found, downloading...\")\n",
    "    os.system(\"wget https://drive.google.com/file/d/1Tehyln7qG8fclLfA9oDvuUzPgFpJyr9V/view?usp=sharing -O 170927_camera_5_label.zip\")\n",
    "    print(\"extracting...\")\n",
    "    os.system(\"unzip -a 170927_camera_5_label.zip && rm 170927_camera_5_label.zip\")\n",
    "    print(\"done\")\n",
    "    assert os.path.exists('170927_camera_5_label')"
   ]
  },
  {
   "cell_type": "code",
   "execution_count": null,
   "metadata": {
    "collapsed": true
   },
   "outputs": [],
   "source": [
    "zip = zipfile.ZipFile('170927_camera_5_label.zip')\n",
    "zip.extractall()"
   ]
  },
  {
   "cell_type": "code",
   "execution_count": 8,
   "metadata": {
    "colab": {
     "autoexec": {
      "startup": false,
      "wait_interval": 0
     }
    },
    "colab_type": "code",
    "collapsed": true,
    "id": "r1P11dOZWsGm"
   },
   "outputs": [],
   "source": [
    "from pathlib import Path\n",
    "images_dir = Path('/data/jvkolomejtsev/170927_camera_5/')\n",
    "labels_dir = Path('/data/jvkolomejtsev/170927_camera_5_label/')"
   ]
  },
  {
   "cell_type": "code",
   "execution_count": 10,
   "metadata": {
    "colab": {
     "autoexec": {
      "startup": false,
      "wait_interval": 0
     },
     "base_uri": "https://localhost:8080/",
     "height": 54
    },
    "colab_type": "code",
    "collapsed": true,
    "executionInfo": {
     "elapsed": 1337,
     "status": "ok",
     "timestamp": 1528139779440,
     "user": {
      "displayName": "Екатерина Иванова",
      "photoUrl": "//lh6.googleusercontent.com/-J4E1oBSy4YQ/AAAAAAAAAAI/AAAAAAAAAlQ/msqlSmDCUJk/s50-c-k-no/photo.jpg",
      "userId": "108823813550030186923"
     },
     "user_tz": -180
    },
    "id": "F2f_g8Eo2NUp",
    "outputId": "8288a8fa-e904-49c4-c275-184b6ac906ee"
   },
   "outputs": [],
   "source": [
    "cwd = os.getcwd()  # Get the current working directory (cwd)\n",
    "files = os.listdir(\"/data/jvkolomejtsev/170927_camera_5/\")  # Get all the files in that directory\n",
    "#print(\"Files in '%s': %s\" % (images_dir, files))"
   ]
  },
  {
   "cell_type": "code",
   "execution_count": 14,
   "metadata": {
    "colab": {
     "autoexec": {
      "startup": false,
      "wait_interval": 0
     },
     "base_uri": "https://localhost:8080/",
     "height": 52
    },
    "colab_type": "code",
    "collapsed": false,
    "executionInfo": {
     "elapsed": 666,
     "status": "ok",
     "timestamp": 1528139781745,
     "user": {
      "displayName": "Екатерина Иванова",
      "photoUrl": "//lh6.googleusercontent.com/-J4E1oBSy4YQ/AAAAAAAAAAI/AAAAAAAAAlQ/msqlSmDCUJk/s50-c-k-no/photo.jpg",
      "userId": "108823813550030186923"
     },
     "user_tz": -180
    },
    "id": "GzmKPJ2QW-nH",
    "outputId": "4c9bed39-4b01-4443-b1e3-ca75ad59e37f"
   },
   "outputs": [
    {
     "data": {
      "text/plain": [
       "(1, 42)"
      ]
     },
     "execution_count": 14,
     "metadata": {},
     "output_type": "execute_result"
    }
   ],
   "source": [
    "#train_images = sorted(os.listdir(images_dir))\n",
    "train_labels = sorted(os.listdir(str(labels_dir)))\n",
    "\n",
    "#print(\"Number of images and labels in the training data: {} and {} respectively\".format(len(train_images), len(train_labels)))\n",
    "\n",
    "#img = [train_images[i:i + 100] for i in range(0, len(train_images), 70)]\n",
    "seg = [train_labels[i:i + 100] for i in range(0, len(train_labels), 70)]\n",
    "\n",
    "\n",
    "#data = [img,seg]\n",
    "data = [seg]\n",
    "data = np.asarray(data)\n",
    "data.shape"
   ]
  },
  {
   "cell_type": "code",
   "execution_count": 18,
   "metadata": {
    "colab": {
     "autoexec": {
      "startup": false,
      "wait_interval": 0
     }
    },
    "colab_type": "code",
    "collapsed": true,
    "id": "IxoU6iUReteO"
   },
   "outputs": [],
   "source": [
    "import random\n",
    "#img_train = img[:]\n",
    "masks_train = seg[:]\n",
    "img_test= []\n",
    "masks_test = []\n",
    "i=0\n",
    "while i != 15:\n",
    "    ch = random.choice(masks_train)\n",
    "    #img_test.append(img_train[img_train.index(ch)])\n",
    "    masks_test.append(masks_train[masks_train.index(ch)])\n",
    "    del(masks_train[masks_train.index(ch)])\n",
    "    #del(img_train[img_train.index(ch)])\n",
    "    #img_train = img_train[:img_train.index(ch)] + img_train[img_train.index(ch)+1:]\n",
    "    i += 1"
   ]
  },
  {
   "cell_type": "code",
   "execution_count": 19,
   "metadata": {
    "colab": {
     "autoexec": {
      "startup": false,
      "wait_interval": 0
     }
    },
    "colab_type": "code",
    "collapsed": true,
    "id": "VZC1csXIfusJ"
   },
   "outputs": [],
   "source": [
    "#train_data = [img_train, masks_train]\n",
    "train_data = [masks_train]\n",
    "#val_data = [img_test, masks_test]\n",
    "val_data = [masks_test]"
   ]
  },
  {
   "cell_type": "code",
   "execution_count": 20,
   "metadata": {
    "colab": {
     "autoexec": {
      "startup": false,
      "wait_interval": 0
     },
     "base_uri": "https://localhost:8080/",
     "height": 52
    },
    "colab_type": "code",
    "collapsed": false,
    "executionInfo": {
     "elapsed": 631,
     "status": "ok",
     "timestamp": 1528139811641,
     "user": {
      "displayName": "Екатерина Иванова",
      "photoUrl": "//lh6.googleusercontent.com/-J4E1oBSy4YQ/AAAAAAAAAAI/AAAAAAAAAlQ/msqlSmDCUJk/s50-c-k-no/photo.jpg",
      "userId": "108823813550030186923"
     },
     "user_tz": -180
    },
    "id": "ssaRXH2VxKxV",
    "outputId": "59285df3-a465-4490-f06a-2a21893ef74f"
   },
   "outputs": [
    {
     "name": "stdout",
     "output_type": "stream",
     "text": [
      "train data size =  2677\n",
      "val_data_size =  1407\n"
     ]
    }
   ],
   "source": [
    "train_data_size = 0\n",
    "val_data_size = 0\n",
    "for i in range(len(train_data[0])):\n",
    "  train_data_size += len(train_data[0][i])\n",
    "  \n",
    "for i in range(len(val_data[0])):\n",
    "  val_data_size += len(val_data[0][i])\n",
    "  \n",
    "print(\"train data size = \",train_data_size)\n",
    "print(\"val_data_size = \",val_data_size)\n",
    "\n",
    "train_length = np.zeros(len(train_data[0]),dtype = int)\n",
    "val_length = np.zeros(len(val_data[0]),dtype = int)"
   ]
  },
  {
   "cell_type": "code",
   "execution_count": 22,
   "metadata": {
    "colab": {
     "autoexec": {
      "startup": false,
      "wait_interval": 0
     }
    },
    "colab_type": "code",
    "collapsed": true,
    "id": "6nQzApP4NGIy"
   },
   "outputs": [],
   "source": [
    "#pre-load dataset to speed up further data preparations\n",
    "import skimage.measure\n",
    "h_in = 678\n",
    "w_in = 840\n",
    "\n",
    "def_h = h_in // 2\n",
    "def_w = w_in // 2\n",
    "\n",
    "train_counter = 0\n",
    "val_counter = 0\n",
    "n_channels = 3\n",
    "\n",
    "Train_data_seg = np.zeros((train_data_size,def_h,def_w), dtype = np.uint8)\n",
    "Val_data_seg = np.zeros((val_data_size,def_h,def_w), dtype = np.uint8)\n",
    "\n",
    "#Train_data_img = np.zeros((train_data_size,def_h,def_w,n_channels), dtype = np.uint8)\n",
    "#Val_data_img = np.zeros((val_data_size,def_h,def_w,n_channels), dtype = np.uint8)\n",
    "\n",
    "for i in range(len(train_data[0])):\n",
    "  #number of frames in this particular video\n",
    "  train_length[i] = len(train_data[0][i])\n",
    "  for j in range(train_length[i]):\n",
    "    seg = np.asarray(Image.open(\"/data/jvkolomejtsev/170927_camera_5_label/\" + train_data[0][i][j]))[::4, ::4].copy()\n",
    "    #img = np.asarray(Image.open(\"./170927_camera_5/\" + train_data[0][i][j]))[::4, ::4].copy()\n",
    "    h,w = seg.shape\n",
    "    #we want to work only with 480 x 848 images\n",
    "    if w != w_in:\n",
    "      step = (w-w_in) // 2\n",
    "      if (w - w_in) % 2 == 0:\n",
    "        seg = seg[:,step:w-step]\n",
    "        #img = img[:,step:w-step,:]\n",
    "      else:\n",
    "        seg = seg[:,step+1:w-step]\n",
    "        #img = img[:,step+1:w-step,:]\n",
    "    seg[seg == 255] = 0\n",
    "    seg[seg > 0] = 1\n",
    "    Train_data_seg[train_counter,:,:] = skimage.measure.block_reduce(seg, (2,2), np.max)  \n",
    "    #Train_data_img[train_counter,:,:,:] = img \n",
    "    train_counter += 1\n",
    "    \n",
    "for i in range(len(val_data[0])):\n",
    "  #number of frames in this particular video\n",
    "  val_length[i] = len(val_data[0][i])\n",
    "  for j in range(val_length[i]):\n",
    "    seg = np.asarray(Image.open(\"/data/jvkolomejtsev/170927_camera_5_label/\" + val_data[0][i][j]))[::4, ::4].copy()\n",
    "    #img = np.asarray(Image.open(\"./170927_camera_5/\" +val_data[0][i][j]))[::4, ::4].copy()\n",
    "    h,w = seg.shape\n",
    "    #we want to work only with 480 x 848 images\n",
    "    if w != w_in:\n",
    "      step = (w-w_in) // 2\n",
    "      if (w - w_in) % 2 == 0:\n",
    "        seg = seg[:,step:w-step]\n",
    "        #img = img[:,step:w-step,:]\n",
    "      else:\n",
    "        seg = seg[:,step+1:w-step]\n",
    "        #img = img[:,step+1:w-step,:]\n",
    "    seg[seg == 255] = 0\n",
    "    seg[seg > 0] = 1\n",
    "    Val_data_seg[val_counter,:,:] = skimage.measure.block_reduce(seg, (2,2), np.max)   \n",
    "    #Val_data_img[val_counter,:,:,:] = img \n",
    "    val_counter += 1"
   ]
  },
  {
   "cell_type": "code",
   "execution_count": 23,
   "metadata": {
    "collapsed": true
   },
   "outputs": [],
   "source": [
    "Train_data_seg = Train_data_seg[:,1:,:]\n",
    "Val_data_seg = Val_data_seg[:,1:,:]\n",
    "\n",
    "def_h = 338\n",
    "def_w = 420"
   ]
  },
  {
   "cell_type": "code",
   "execution_count": 28,
   "metadata": {
    "colab": {
     "autoexec": {
      "startup": false,
      "wait_interval": 0
     },
     "base_uri": "https://localhost:8080/",
     "height": 87
    },
    "colab_type": "code",
    "collapsed": false,
    "executionInfo": {
     "elapsed": 648,
     "status": "ok",
     "timestamp": 1528141194651,
     "user": {
      "displayName": "Екатерина Иванова",
      "photoUrl": "//lh6.googleusercontent.com/-J4E1oBSy4YQ/AAAAAAAAAAI/AAAAAAAAAlQ/msqlSmDCUJk/s50-c-k-no/photo.jpg",
      "userId": "108823813550030186923"
     },
     "user_tz": -180
    },
    "id": "1P6xLX7hoib5",
    "outputId": "ad7f72c3-833e-4844-8657-ba9b8ed7124d"
   },
   "outputs": [
    {
     "name": "stdout",
     "output_type": "stream",
     "text": [
      "[   0  100  200  300  400  500  600  700  800  900 1000 1100 1200 1300\n",
      " 1400 1500 1600 1700 1800 1900 2000 2100 2200 2300 2400 2500 2600]\n",
      "[   0  100  200  207  307  407  507  607  707  807  907 1007 1107 1207\n",
      " 1307]\n"
     ]
    }
   ],
   "source": [
    "train_length_cum = np.zeros(len(train_data[0]),dtype = int)\n",
    "val_length_cum = np.zeros(len(val_data[0]),dtype = int)\n",
    "\n",
    "train_length_cum = np.cumsum(train_length) - train_length\n",
    "val_length_cum = np.cumsum(val_length) - val_length\n",
    "\n",
    "print(train_length_cum)\n",
    "print(val_length_cum)"
   ]
  },
  {
   "cell_type": "code",
   "execution_count": 29,
   "metadata": {
    "colab": {
     "autoexec": {
      "startup": false,
      "wait_interval": 0
     }
    },
    "colab_type": "code",
    "collapsed": true,
    "id": "x4M9w16zkrOT"
   },
   "outputs": [],
   "source": [
    "def generate_batches_AR(dataset, X_seg, cumul, n_frames=1,batch_size=1, n_out=1, repetitions=5):\n",
    "    \"\"\"\n",
    "    Randomly draw videos and divide it to sequences of `n_frames` consecutive frames \n",
    "        with their semantic segmentation\n",
    "        \n",
    "    (`n_frames` + 1)th frame segmentation is to be predicted (target)\n",
    "    \"\"\"  \n",
    "    video_nums = np.random.permutation(np.repeat(np.arange(len(cumul)), repetitions))\n",
    "    for vid in video_nums:\n",
    "        X_batch = []\n",
    "        y_batch = []\n",
    "        #start = np.random.randint(0, len(dataset[0][vid]) - n_frames - n_out + 2, size = batch_size)\n",
    "        start = np.random.randint(0, len(dataset[0][vid]) - n_frames - n_out + 1, size = batch_size)\n",
    "        for out in range(n_out):\n",
    "            loc_X = []\n",
    "            loc_y = []\n",
    "            for b in range(batch_size):         \n",
    "                #start index of the video frame\n",
    "                start_ind = cumul[vid] + start[b]\n",
    "        \n",
    "                seg = X_seg[start_ind+out:start_ind+n_frames+out,:,:]\n",
    "        \n",
    "                seg = torch.from_numpy(seg).float()\n",
    "                \n",
    "                n,h,w = seg.size()            \n",
    "              \n",
    "                loc_X.append(seg[:-1,:,:])\n",
    "                loc_y.append(seg[-1,:,:])\n",
    "            X_batch.append(torch.stack(loc_X))\n",
    "            y_batch.append(torch.stack(loc_y))\n",
    "        #note that it is 5-dim tensor, not 4-dim\n",
    "        yield torch.stack(X_batch), torch.stack(y_batch)"
   ]
  },
  {
   "cell_type": "code",
   "execution_count": 30,
   "metadata": {
    "colab": {
     "autoexec": {
      "startup": false,
      "wait_interval": 0
     }
    },
    "colab_type": "code",
    "collapsed": true,
    "id": "3ks3PY0h1hSn"
   },
   "outputs": [],
   "source": [
    "def generate_batches_AR_all_indices(dataset, cumul, n_frames=1, \n",
    "                                    n_out=1, step=1):\n",
    "    \"\"\"\n",
    "    generates start indices\n",
    "    \"\"\"\n",
    "    indices = []\n",
    "    for vid in range(len(dataset[0])):\n",
    "        for start in range(0, len(dataset[0][vid]) - n_frames - n_out + 1, step):\n",
    "            start_ind = cumul[vid] + start\n",
    "            #end_ind = start_ind + n_frames + n_out\n",
    "            indices.append(start_ind)\n",
    "    res = {\n",
    "        \"indices\": indices, \"n_frames\": n_frames, \"n_out\": n_out\n",
    "    }    \n",
    "    return res\n",
    "\n",
    "\n",
    "def generate_batches_AR_all(dataset, X_seg, indices_dict, batch_size=2):\n",
    "    start_indices = np.array(indices_dict[\"indices\"])\n",
    "    n_frames = indices_dict[\"n_frames\"]\n",
    "    n_out = indices_dict[\"n_out\"]\n",
    "    random_indices = np.random.permutation(np.arange(len(start_indices)))\n",
    "    for start in range(0, len(random_indices), batch_size):\n",
    "        batch_random_indices = random_indices[start: start + batch_size]\n",
    "        batch_start_indices = start_indices[batch_random_indices]\n",
    "        X_batch = []\n",
    "        y_batch = []\n",
    "        for out in range(n_out):\n",
    "            loc_X = []\n",
    "            loc_y = []\n",
    "            for b in range(batch_size):\n",
    "                if b >= len(batch_start_indices):\n",
    "                    break\n",
    "                start_ind = batch_start_indices[b]\n",
    "                seg = X_seg[start_ind+out:start_ind+n_frames+out+1,:,:]\n",
    "        \n",
    "                seg = torch.from_numpy(seg).float()\n",
    "                \n",
    "                n,h,w = seg.size()            \n",
    "              \n",
    "                loc_X.append(seg[:-1,:,:])\n",
    "                loc_y.append(seg[-1,:,:])\n",
    "            X_batch.append(torch.stack(loc_X))\n",
    "            y_batch.append(torch.stack(loc_y))\n",
    "        #note that it is 5-dim tensor, not 4-dim\n",
    "        yield torch.stack(X_batch), torch.stack(y_batch)"
   ]
  },
  {
   "cell_type": "code",
   "execution_count": 31,
   "metadata": {
    "colab": {
     "autoexec": {
      "startup": false,
      "wait_interval": 0
     }
    },
    "colab_type": "code",
    "collapsed": true,
    "id": "thaBl3CG4esd"
   },
   "outputs": [],
   "source": [
    "def fast_hist(pred, label, n=2):\n",
    "    k = (label >= 0) & (label < n)\n",
    "    return np.bincount(n * label[k] + pred[k], minlength=n ** 2).reshape(n, n)\n",
    "#         n * label[k].astype(int) + pred[k], minlength=n ** 2).reshape(n, n)\n",
    "\n",
    "def per_class_iu(hist):\n",
    "    return np.diag(hist) / (hist.sum(1) + hist.sum(0) - np.diag(hist))\n",
    "\n",
    "def compute_metrics(pred,label,n_classes):\n",
    "    \"\"\"\n",
    "    pred,label = np.array, shape = (batch_size,H,W), entries \\in [0,n_classes-1]\n",
    "    \"\"\"\n",
    "    iou = np.zeros(n_classes,dtype = float)\n",
    "    accuracy = []\n",
    "    for i in range(pred.shape[0]):\n",
    "        hist = fast_hist(pred[i,:,:],label[i,:,:],n_classes)\n",
    "        iou += per_class_iu(hist)\n",
    "        accuracy.append(np.diag(hist).sum()/hist.sum())\n",
    "    iou = iou / pred.shape[0]\n",
    "    mean_iou = iou.mean()\n",
    "    mean_accuracy = np.mean(accuracy)\n",
    "    return mean_accuracy,mean_iou,iou\n",
    "\n",
    "def compute_loss(out,h,w,labels,loss = 'BCE'):\n",
    "    eps = 1e-3\n",
    "    if loss == 'BCE':\n",
    "        return F.binary_cross_entropy(out,labels).mean()\n",
    "    if loss == 'gdl1':\n",
    "        loss_gdl = torch.sum(torch.mean(torch.abs(torch.abs(out[:,:,:h-1,:] - out[:,:,1:,:]) - torch.abs(labels[:,:,:h-1,:] - labels[:,:,1:,:]))),\n",
    "            torch.mean(torch.abs(torch.abs(out[:,:,:,:w-1] - out[:,:,:,1:]) - torch.abs(labels[:,:,:,:w-1] - labels[:,:,:,1:]))))\n",
    "        return loss_gdl\n",
    "    if loss == 'l1':\n",
    "        return F.l1_loss(out,labels)\n",
    "    if loss == 'combined':\n",
    "        loss_gdl = torch.sum(torch.mean(torch.abs(torch.abs(out[:,:,:h-1,:] - out[:,:,1:,:]) - torch.abs(labels[:,:,:h-1,:] - labels[:,:,1:,:]))),\n",
    "             torch.mean(torch.abs(torch.abs(out[:,:,:,:w-1] - out[:,:,:,1:]) - torch.abs(labels[:,:,:,:w-1] - labels[:,:,:,1:]))))\n",
    "        return loss_gdl + F.l1_loss(out,labels)\n",
    "    if loss == 'dice':\n",
    "        batch_losses = torch.zeros(out.shape[0])\n",
    "        for i in range(out.shape[0]):\n",
    "            x = torch.dot(out[i].view(-1),labels[i].view(-1))\n",
    "            batch_losses[i] = - torch.log(2*x/(torch.norm(out[i],2)**2 + torch.norm(labels[i],2)**2) + eps)\n",
    "        return batch_losses.mean()"
   ]
  },
  {
   "cell_type": "code",
   "execution_count": 32,
   "metadata": {
    "colab": {
     "autoexec": {
      "startup": false,
      "wait_interval": 0
     }
    },
    "colab_type": "code",
    "collapsed": true,
    "id": "IUrSx5zy1hSu"
   },
   "outputs": [],
   "source": [
    "### TRAIN\n",
    "n_out = 1\n",
    "n_classes = 2\n",
    "n_frames = 4"
   ]
  },
  {
   "cell_type": "code",
   "execution_count": 33,
   "metadata": {
    "colab": {
     "autoexec": {
      "startup": false,
      "wait_interval": 0
     }
    },
    "colab_type": "code",
    "collapsed": true,
    "id": "f9PmZE5a1hS3"
   },
   "outputs": [],
   "source": [
    "train_indices = generate_batches_AR_all_indices(train_data, train_length_cum, n_frames, n_out)\n",
    "val_indices = generate_batches_AR_all_indices(val_data, val_length_cum, n_frames, n_out)"
   ]
  },
  {
   "cell_type": "code",
   "execution_count": 34,
   "metadata": {
    "colab": {
     "autoexec": {
      "startup": false,
      "wait_interval": 0
     }
    },
    "colab_type": "code",
    "collapsed": true,
    "id": "OTFSbkOt1hS7"
   },
   "outputs": [],
   "source": [
    "num_epochs = 50\n",
    "batch_size = 6\n",
    "number_of_batches_train = int(np.ceil(len(train_indices[\"indices\"]) / batch_size))\n",
    "number_of_batches_val = int(np.ceil(len(val_indices[\"indices\"]) / batch_size))\n",
    "no_improvements_threshold = 10\n",
    "best_val_miou = 0.0\n",
    "no_improvements = 0\n",
    "\n",
    "mod_size = 1\n",
    "\n",
    "net = S2SNew(n_classes=n_classes, input_frames=n_frames, mod_size=mod_size)\n",
    "net = net.cuda()"
   ]
  },
  {
   "cell_type": "code",
   "execution_count": 37,
   "metadata": {
    "colab": {
     "autoexec": {
      "startup": false,
      "wait_interval": 0
     }
    },
    "colab_type": "code",
    "collapsed": true,
    "id": "ZfDHkFdp1hTJ"
   },
   "outputs": [],
   "source": [
    "###TRAIN\n",
    "train_loss = []\n",
    "train_loss_mean = []\n",
    "acc = []\n",
    "miou = []\n",
    "iou = []\n",
    "\n",
    "weight = torch.from_numpy(np.array([1.0,10.0]))\n",
    "weight = weight.type(torch.FloatTensor)\n",
    "weight = weight.cuda()\n",
    "\n",
    "np.random.seed(666)\n",
    "torch.manual_seed(666)\n",
    "optimizer = optim.Adam(net.parameters(),lr = 1e-4)"
   ]
  },
  {
   "cell_type": "code",
   "execution_count": 38,
   "metadata": {
    "colab": {
     "autoexec": {
      "startup": false,
      "wait_interval": 0
     },
     "base_uri": "https://localhost:8080/",
     "height": 34
    },
    "colab_type": "code",
    "collapsed": false,
    "executionInfo": {
     "elapsed": 628,
     "status": "ok",
     "timestamp": 1528141331836,
     "user": {
      "displayName": "Екатерина Иванова",
      "photoUrl": "//lh6.googleusercontent.com/-J4E1oBSy4YQ/AAAAAAAAAAI/AAAAAAAAAlQ/msqlSmDCUJk/s50-c-k-no/photo.jpg",
      "userId": "108823813550030186923"
     },
     "user_tz": -180
    },
    "id": "e61Ar4vs1hTO",
    "outputId": "02e6cb96-dc6b-482f-9320-99e18338fdbe"
   },
   "outputs": [
    {
     "data": {
      "text/plain": [
       "155"
      ]
     },
     "execution_count": 38,
     "metadata": {},
     "output_type": "execute_result"
    }
   ],
   "source": [
    "gc.collect()"
   ]
  },
  {
   "cell_type": "code",
   "execution_count": 39,
   "metadata": {
    "colab": {
     "autoexec": {
      "startup": false,
      "wait_interval": 0
     },
     "base_uri": "https://localhost:8080/",
     "height": 34
    },
    "colab_type": "code",
    "collapsed": false,
    "id": "rYYphPRZ1hTd",
    "outputId": "0ffdf8f4-50f9-4920-f735-5ad43c226f55"
   },
   "outputs": [
    {
     "name": "stdout",
     "output_type": "stream",
     "text": [
      "acc =  [0.99099913]\n",
      "cur_miou =  [0.88968164]\n",
      "cur_iou =  [[0.9905949  0.78876837]]\n",
      "Epoch 50 of 50 took 105.153s\n"
     ]
    },
    {
     "data": {
      "image/png": "[encoded data removed]",
      "text/plain": [
       "<Figure size 1152x576 with 2 Axes>"
      ]
     },
     "metadata": {},
     "output_type": "display_data"
    },
    {
     "name": "stderr",
     "output_type": "stream",
     "text": [
      "100%|██████████| 50/50 [1:29:45<00:00, 107.71s/it]\n"
     ]
    }
   ],
   "source": [
    "for epoch in tqdm(range(num_epochs)):\n",
    "    start_time = time.time()\n",
    "    net.train(True)\n",
    "    print(\"Training...\")\n",
    "    loss_sum = 0\n",
    "    for X_batch, labels in tqdm_notebook(generate_batches_AR_all(train_data, Train_data_seg, \n",
    "                                                train_indices, batch_size=batch_size)):\n",
    "        cur_loss = []\n",
    "        X_step = X_batch[0,:,:,:,:]\n",
    "        labels_step = labels[0,:,:,:]\n",
    "        labels_step = labels_step.reshape(labels_step.shape[0], 1, \n",
    "                                          labels_step.shape[1], labels_step.shape[2])\n",
    "        X_step = Variable(X_step)\n",
    "        labels_step = Variable(labels_step)\n",
    "        if torch.cuda.is_available():\n",
    "            X_step = X_step.cuda()\n",
    "            labels_step = labels_step.cuda()\n",
    "        out = net(X_step)\n",
    "        loss = compute_loss(out,def_h,def_w,labels_step,'dice')\n",
    "        loss.backward()\n",
    "        optimizer.step()\n",
    "        optimizer.zero_grad()\n",
    "        cur_loss.append(loss.cpu().data.numpy())\n",
    "        ar_out = torch.zeros(X_step.shape[0], n_out, def_h, def_w)\n",
    "        for step in range(n_out-1):\n",
    "            X_step = X_batch[1+step,:,:,:,:]\n",
    "            ar_out[:,step,:,:] = out.detach().data[:, 0]\n",
    "            upper = step + 1\n",
    "            lower = max(upper-n_frames+1,0)\n",
    "            X_step[:,-min(upper,n_frames-1):,:,:] = ar_out[:,lower:upper,:,:]\n",
    "            labels_step = labels[1+step,:,:,:]\n",
    "            labels_step = labels_step.reshape(labels_step.shape[0], 1, \n",
    "                                          labels_step.shape[1], labels_step.shape[2])\n",
    "\n",
    "            X_step = Variable(X_step)\n",
    "            labels_step = Variable(labels_step)\n",
    "            if torch.cuda.is_available():\n",
    "                X_step = X_step.cuda()\n",
    "                labels_step = labels_step.cuda()\n",
    "            out = net(X_step)\n",
    "            loss = compute_loss(out,def_h,def_w,labels_step,'dice')\n",
    "            loss.backward()\n",
    "            optimizer.step()\n",
    "            optimizer.zero_grad()\n",
    "            cur_loss.append(loss.cpu().data.numpy())\n",
    "            #new_out = out.detanew_outch().data\n",
    "        loss_num = np.mean(cur_loss)\n",
    "        loss_sum += loss_num\n",
    "        train_loss.append(loss_num)\n",
    "\n",
    "    del loss, X_batch, labels, X_step, labels_step, ar_out, out\n",
    "    torch.cuda.empty_cache()\n",
    "\n",
    "    train_loss_mean.append(loss_sum / number_of_batches_train)\n",
    "    net.eval()\n",
    "    inner_acc = np.zeros((n_out, number_of_batches_val),dtype = float)\n",
    "    inner_miou = np.zeros((n_out, number_of_batches_val),dtype = float)\n",
    "    inner_iou = np.zeros((n_out, number_of_batches_val,n_classes),dtype = float)\n",
    "    \n",
    "    #save_model(net, optimizer, epoch, os.path.join(save_dir, '{}_epoch.ckpt'.format(epoch)))\n",
    "    \n",
    "    print(\"Validation...\")\n",
    "    counter = 0\n",
    "    for X_batch, labels in generate_batches_AR_all(val_data, Val_data_seg, \n",
    "                                                val_indices, batch_size=batch_size):\n",
    "        X_step = X_batch[0,:,:,:,:]\n",
    "        with torch.no_grad():\n",
    "            out = net(Variable(X_step).cuda())\n",
    "        pred = out.cpu().data.numpy()\n",
    "        pred[pred > 0.5] = 1.0\n",
    "        pred[pred <= 0.5] = 0.0\n",
    "                \n",
    "        pred = pred.reshape(X_step.shape[0], def_h, def_w)\n",
    "        \n",
    "        acc_loc,miou_loc,iou_loc = compute_metrics(pred.astype(int),labels[0,:,:,:].numpy().astype(int),\n",
    "                                                   n_classes=2)\n",
    "        inner_acc[0,counter] = acc_loc\n",
    "        inner_miou[0,counter] = miou_loc\n",
    "        inner_iou[0,counter,:] = iou_loc\n",
    "        ar_out = torch.zeros(X_step.shape[0], n_out, def_h, def_w)\n",
    "        for step in range(n_out-1):\n",
    "            X_step = X_batch[1+step,:,:,:,:]\n",
    "            ar_out[:,step,:,:] = out.detach().data[:, 0]\n",
    "            upper = step + 1\n",
    "            lower = max(upper-n_frames+1,0)\n",
    "            X_step[:,-min(upper,n_frames-1):,:,:] = ar_out[:,lower:upper,:,:]\n",
    "            X_step = Variable(X_step)\n",
    "            if torch.cuda.is_available():\n",
    "                X_step = X_step.cuda()\n",
    "            out = net(X_step)\n",
    "            pred = out.cpu().data.numpy()\n",
    "            pred[pred > 0.5] = 1.0\n",
    "            pred[pred <= 0.5] = 0.0\n",
    "\n",
    "            pred = pred.reshape(X_step.shape[0], def_h, def_w)\n",
    "            \n",
    "            acc_loc,miou_loc,iou_loc = compute_metrics(pred.astype(int),labels[1+step,:,:,:].numpy().astype(int),\n",
    "                                                       n_classes=2)\n",
    "            inner_acc[1+step,counter] = acc_loc\n",
    "            inner_miou[1+step,counter] = miou_loc\n",
    "            inner_iou[1+step,counter,:] = iou_loc\n",
    "        counter += 1\n",
    "        \n",
    "    del X_batch, labels, X_step\n",
    "    torch.cuda.empty_cache()\n",
    "    \n",
    "    cur_acc = inner_acc.mean(axis = 1)\n",
    "    cur_miou = inner_miou.mean(axis = 1)\n",
    "    cur_iou = inner_iou.mean(axis = 1)\n",
    "    \n",
    "    display.clear_output(wait=True)\n",
    "    \n",
    "    cur_miou_mean = cur_miou.mean()\n",
    "    if cur_miou_mean > best_val_miou:\n",
    "        print(\"saving model on epoch number %d with val miou %.3f...\" % \n",
    "             (epoch + 1, cur_miou_mean))\n",
    "        torch.save(net.state_dict(), 'model_s2s_dil_dashcam_1.pt')\n",
    "        best_val_miou = cur_miou_mean\n",
    "        no_improvements = 0\n",
    "    else:\n",
    "        no_improvements += 1\n",
    "        if no_improvements > no_improvements_threshold:\n",
    "            print(\"There were no improvements during last %d epochs,\\nending on epoch %d\" % \n",
    "               (no_improvements_threshold, epoch + 1))\n",
    "            break\n",
    "    print(\"acc = \",cur_acc)\n",
    "    print(\"cur_miou = \",cur_miou)\n",
    "    print(\"cur_iou = \",cur_iou)\n",
    "    acc.append(cur_acc)\n",
    "    miou.append(cur_miou)\n",
    "    iou.append(cur_iou)\n",
    "    print(\"Epoch {} of {} took {:.3f}s\".format(\n",
    "        epoch + 1, num_epochs, time.time() - start_time))\n",
    "    plt.figure(figsize=(16, 8))\n",
    "    plt.subplot(121)\n",
    "    plt.plot(train_loss, 'b')\n",
    "    plt.title(\"Train loss\")\n",
    "    plt.xlabel(\"#iteration\")\n",
    "    plt.ylabel(\"loss\")\n",
    "    plt.subplot(122)\n",
    "    plt.plot(train_loss_mean)\n",
    "    plt.xlabel('Epoch number')\n",
    "    plt.ylabel('Loss mean')\n",
    "    plt.show()\n",
    "    \n",
    "    text = [\n",
    "        str(cur_miou_mean), \", best: \", str(best_val_miou),\n",
    "        \"\\n acc: \", str(cur_acc), '\\n cur_miou: ', str(cur_miou), '\\n cur_iou: ', str(cur_iou),\n",
    "        \"\\n epoch num: \", str(epoch + 1), \" took: \", str(time.time() - start_time),\n",
    "        \"\\n no_improvements: \", str(no_improvements)\n",
    "    ]\n",
    "    send_email(\"s2s_dil_out1\")\n",
    "    send_email(''.join(text))"
   ]
  },
  {
   "cell_type": "code",
   "execution_count": 40,
   "metadata": {
    "collapsed": false,
    "scrolled": true
   },
   "outputs": [
    {
     "data": {
      "text/plain": [
       "48"
      ]
     },
     "execution_count": 40,
     "metadata": {},
     "output_type": "execute_result"
    }
   ],
   "source": [
    "epoch - no_improvements"
   ]
  },
  {
   "cell_type": "code",
   "execution_count": 43,
   "metadata": {
    "collapsed": false
   },
   "outputs": [
    {
     "data": {
      "image/png": "[encoded data removed]",
      "text/plain": [
       "<Figure size 864x576 with 1 Axes>"
      ]
     },
     "metadata": {},
     "output_type": "display_data"
    }
   ],
   "source": [
    "plt.figure(figsize=(12, 8))\n",
    "plt.plot(train_loss_mean, lw=3)\n",
    "plt.title(\"S2S-dil nout1, Dice, Loss, Dashcam\", size=20)\n",
    "plt.xlabel(\"Epoch\", size=15)\n",
    "plt.ylabel(\"Loss\", size=15)\n",
    "plt.grid(color='lightgray', linestyle='dashed')\n",
    "plt.show()"
   ]
  },
  {
   "cell_type": "code",
   "execution_count": 49,
   "metadata": {
    "collapsed": false
   },
   "outputs": [
    {
     "data": {
      "image/png": "[encoded data removed]",
      "text/plain": [
       "<Figure size 864x576 with 1 Axes>"
      ]
     },
     "metadata": {},
     "output_type": "display_data"
    }
   ],
   "source": [
    "plt.figure(figsize=(12, 8))\n",
    "plt.plot(np.array(acc), lw=2)\n",
    "plt.title(\"S2S-dil nout1, Dice, Accuracy, Dashcam\", size=20)\n",
    "plt.xlabel(\"Epoch\", size=15)\n",
    "plt.ylabel(\"Accuracy\", size=15)\n",
    "plt.grid(color='lightgray', linestyle='dashed')\n",
    "plt.show()"
   ]
  },
  {
   "cell_type": "code",
   "execution_count": 48,
   "metadata": {
    "collapsed": false
   },
   "outputs": [
    {
     "data": {
      "image/png": "[encoded data removed]",
      "text/plain": [
       "<Figure size 864x576 with 1 Axes>"
      ]
     },
     "metadata": {},
     "output_type": "display_data"
    }
   ],
   "source": [
    "plt.figure(figsize=(12, 8))\n",
    "plt.plot(np.array(miou).mean(1), lw=2)\n",
    "plt.title(\"S2S-dil nout1, Dice, mean IoU, Dashcam\", size=20)\n",
    "plt.xlabel(\"Epoch\", size=15)\n",
    "plt.ylabel(\"mIoU\", size=15)\n",
    "plt.grid(color='lightgray', linestyle='dashed')\n",
    "plt.show()"
   ]
  },
  {
   "cell_type": "code",
   "execution_count": 55,
   "metadata": {
    "collapsed": false
   },
   "outputs": [
    {
     "data": {
      "image/png": "[encoded data removed]",
      "text/plain": [
       "<Figure size 864x576 with 1 Axes>"
      ]
     },
     "metadata": {},
     "output_type": "display_data"
    }
   ],
   "source": [
    "plt.figure(figsize=(12, 8))\n",
    "plt.plot(np.array(iou)[:,i,0], lw=2)\n",
    "plt.plot(np.array(iou)[:,i,1], lw=2)\n",
    "plt.title(\"S2S-dil n_out1, Dice, per class IoU, Dashcam\", size=20)\n",
    "plt.xlabel(\"Epoch\", size=15)\n",
    "plt.ylabel(\"mIoU\", size=15)\n",
    "plt.grid(color='lightgray', linestyle='dashed')\n",
    "plt.show()"
   ]
  },
  {
   "cell_type": "code",
   "execution_count": null,
   "metadata": {
    "collapsed": true
   },
   "outputs": [],
   "source": []
  }
 ],
 "metadata": {
  "accelerator": "GPU",
  "colab": {
   "collapsed_sections": [],
   "default_view": {},
   "name": "XS2S_AR_colab_4(new)-nout5-Copy1.ipynb",
   "provenance": [
    {
     "file_id": "1CfBGrp3B3U2ycq0H1ImiPU-jImMgmHXW",
     "timestamp": 1527418499176
    }
   ],
   "version": "0.3.2",
   "views": {}
  },
  "kernelspec": {
   "display_name": "Python 3",
   "language": "python",
   "name": "python3"
  },
  "language_info": {
   "codemirror_mode": {
    "name": "ipython",
    "version": 3
   },
   "file_extension": ".py",
   "mimetype": "text/x-python",
   "name": "python",
   "nbconvert_exporter": "python",
   "pygments_lexer": "ipython3",
   "version": "3.6.0"
  }
 },
 "nbformat": 4,
 "nbformat_minor": 1
}
