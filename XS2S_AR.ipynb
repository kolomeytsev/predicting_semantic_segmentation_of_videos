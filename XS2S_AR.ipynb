{
 "cells": [
  {
   "cell_type": "code",
   "execution_count": 26,
   "metadata": {
    "colab": {
     "autoexec": {
      "startup": false,
      "wait_interval": 0
     }
    },
    "colab_type": "code",
    "collapsed": true,
    "id": "xZnwuod34vy4"
   },
   "outputs": [],
   "source": [
    "import os,zipfile\n",
    "import argparse\n",
    "import numpy as np\n",
    "import torch.utils.data\n",
    "from glob import glob\n",
    "from PIL import Image\n",
    "\n",
    "import matplotlib.pyplot as plt\n",
    "%matplotlib inline\n",
    "from scipy import misc\n",
    "import time\n",
    "from IPython import display\n",
    "\n",
    "import torch\n",
    "from torch import nn, optim\n",
    "from torch.autograd import Variable\n",
    "from torchvision import datasets, transforms\n",
    "from torchvision.utils import save_image\n",
    "from torch.utils.data import Dataset\n",
    "import torch.nn.functional as F\n",
    "\n",
    "from tqdm import tqdm\n",
    "from tqdm import tqdm_notebook\n",
    "import gc\n",
    "import json"
   ]
  },
  {
   "cell_type": "code",
   "execution_count": 2,
   "metadata": {
    "colab": {
     "autoexec": {
      "startup": false,
      "wait_interval": 0
     }
    },
    "colab_type": "code",
    "collapsed": true,
    "id": "fpBoFR5ExKxS"
   },
   "outputs": [],
   "source": [
    "class NowcastXStoS(nn.Module):\n",
    "    def __init__(self, n_classes = 2, input_frames = 1, output_frames = 1, mod_size = 2):\n",
    "        super(NowcastXStoS, self).__init__()\n",
    "        \"\"\"\n",
    "        :param input_frames: integer, number of previous frames\n",
    "        :param output_frames: integer, number of future frames to predict (semntoc segmentation)\n",
    "        :param n_classes: integer, number of classes in semantic segmentation (for now only 2)\n",
    "        \"\"\"\n",
    "        self.n_classes = n_classes\n",
    "        self.input_frames = input_frames\n",
    "        self.output_frames = output_frames\n",
    "        self.mod_size = mod_size\n",
    "        \n",
    "        self.maxpool = nn.MaxPool2d(kernel_size = 2)\n",
    "        self.softmax = nn.Softmax2d()\n",
    "        # Layer 1 (reduced image)\n",
    "        self.conv_net_1 = nn.Sequential(nn.Conv2d(self.input_frames + (self.input_frames + 1) * 3, \n",
    "                                                  self.mod_size * 32, \n",
    "                                                  kernel_size = 3, \n",
    "                                                  padding = 1),\n",
    "                                   nn.ReLU(),\n",
    "                                   nn.Conv2d(self.mod_size*32, self.mod_size*64, 3, padding = 1),\n",
    "                                   nn.ReLU(),\n",
    "                                   nn.Conv2d(self.mod_size*64, self.mod_size*32, 3, padding = 1),\n",
    "                                   nn.ReLU(),\n",
    "                                   nn.Conv2d(self.mod_size*32, self.output_frames, 3, padding = 1),\n",
    "                                   nn.Sigmoid(),\n",
    "                                   nn.Upsample(scale_factor = 2, mode='bilinear'))\n",
    "        \n",
    "        # Layer 2 (full image + prediction from layer 1)\n",
    "        self.conv_net_2 = nn.Sequential(nn.Conv2d(self.input_frames + (self.input_frames + 1) * 3 + self.output_frames,\n",
    "                                                  self.mod_size * 32, \n",
    "                                                  kernel_size = 5, \n",
    "                                                  padding = 2),\n",
    "                                   nn.ReLU(),\n",
    "                                   nn.Conv2d(self.mod_size*32, self.mod_size*64, 3, padding = 1),\n",
    "                                   nn.ReLU(),\n",
    "                                   nn.Conv2d(self.mod_size*64, self.mod_size*32, 3, padding = 1),\n",
    "                                   nn.ReLU(),\n",
    "                                   nn.Conv2d(self.mod_size*32, self.output_frames, 3, padding = 1),\n",
    "                                   nn.Sigmoid())\n",
    "\n",
    "        \n",
    "    def forward(self, x):\n",
    "        \"\"\"\n",
    "        Encodes inputs to hidden representations and decodes back.\n",
    "\n",
    "        x: inputs, Variable of shape (batch_size, inp_size)\n",
    "        return: reconstructed objects, Variable of shape (batch_size, inp_size)\n",
    "        \"\"\"\n",
    "        x_reduced = self.maxpool(x)\n",
    "        layer_1_result = self.conv_net_1(x_reduced)\n",
    "        result = self.conv_net_2(torch.cat((x, layer_1_result), dim = 1))\n",
    "        result = (result + layer_1_result) * 0.5 # skip connection\n",
    "#         return self.softmax(result)\n",
    "        return result"
   ]
  },
  {
   "cell_type": "code",
   "execution_count": 3,
   "metadata": {
    "colab": {
     "autoexec": {
      "startup": false,
      "wait_interval": 0
     }
    },
    "colab_type": "code",
    "collapsed": true,
    "id": "LPgPTcUkxKxj"
   },
   "outputs": [],
   "source": [
    "## сохранение модели\n",
    "save_dir = 'test/'\n",
    "def save_model(net, optim, epoch, ckpt_fname):\n",
    "    state_dict = net.state_dict()\n",
    "    for key in state_dict.keys():\n",
    "        state_dict[key] = state_dict[key].cpu()\n",
    "\n",
    "    torch.save({\n",
    "        'epoch': epoch,\n",
    "        'state_dict': state_dict,\n",
    "        'optimizer': optim},\n",
    "        ckpt_fname)"
   ]
  },
  {
   "cell_type": "code",
   "execution_count": 4,
   "metadata": {
    "colab": {
     "autoexec": {
      "startup": false,
      "wait_interval": 0
     }
    },
    "colab_type": "code",
    "collapsed": true,
    "id": "8ZNZyMdVxu3V"
   },
   "outputs": [],
   "source": [
    "if not os.path.exists('DAVIS'):\n",
    "    print(\"images not found, donwloading...\")\n",
    "    os.system(\"wget https://data.vision.ee.ethz.ch/csergi/share/davis/DAVIS-2017-trainval-480p.zip -O DAVIS-data.zip\")\n",
    "    print(\"extracting...\")\n",
    "    os.system(\"unzip -a DAVIS-data.zip && rm DAVIS-data.zip\")\n",
    "    print(\"done\")\n",
    "    assert os.path.exists('DAVIS')"
   ]
  },
  {
   "cell_type": "code",
   "execution_count": 6,
   "metadata": {
    "colab": {
     "autoexec": {
      "startup": false,
      "wait_interval": 0
     },
     "base_uri": "https://localhost:8080/",
     "height": 50
    },
    "colab_type": "code",
    "collapsed": false,
    "executionInfo": {
     "elapsed": 657,
     "status": "ok",
     "timestamp": 1527611058858,
     "user": {
      "displayName": "Сергей Самсонов",
      "photoUrl": "https://lh3.googleusercontent.com/a/default-user=s128",
      "userId": "104353002559980884299"
     },
     "user_tz": -180
    },
    "id": "ssaRXH2VxKxV",
    "outputId": "1d63b2f2-eac3-430e-a071-63ceb2e008d9"
   },
   "outputs": [
    {
     "name": "stdout",
     "output_type": "stream",
     "text": [
      "train data size =  4209\n",
      "val_data_size =  1999\n"
     ]
    }
   ],
   "source": [
    "def get_dataset(names_dir):\n",
    "        # get video names\n",
    "        file = open(names_dir,'r') \n",
    "        names = file.readlines()\n",
    "        \n",
    "        # get the images\n",
    "        imgs = []\n",
    "        maps = []\n",
    "        for name in names:  \n",
    "            maps.append(sorted(glob(os.path.join('./DAVIS/Annotations/480p', name[:-1],  '*'))))\n",
    "            imgs.append(sorted(glob(os.path.join('./DAVIS/JPEGImages/480p', name[:-1],  '*'))))\n",
    "        return imgs, maps\n",
    "    \n",
    "train_data = get_dataset('./DAVIS/ImageSets/2017/train.txt')\n",
    "val_data = get_dataset('./DAVIS/ImageSets/2017/val.txt')\n",
    "\n",
    "train_data_size = 0\n",
    "val_data_size = 0\n",
    "\n",
    "for i in range(len(train_data[0])):\n",
    "  train_data_size += len(train_data[0][i])\n",
    "  \n",
    "for i in range(len(val_data[0])):\n",
    "  val_data_size += len(val_data[0][i])\n",
    "  \n",
    "print(\"train data size = \",train_data_size)\n",
    "print(\"val_data_size = \",val_data_size)\n",
    "\n",
    "train_length = np.zeros(len(train_data[0]),dtype = int)\n",
    "val_length = np.zeros(len(val_data[0]),dtype = int)"
   ]
  },
  {
   "cell_type": "code",
   "execution_count": 7,
   "metadata": {
    "colab": {
     "autoexec": {
      "startup": false,
      "wait_interval": 0
     }
    },
    "colab_type": "code",
    "collapsed": true,
    "id": "xK7XgcSOUtR1"
   },
   "outputs": [],
   "source": [
    "#pre-load dataset to speed up further data preparations\n",
    "def_h = 480\n",
    "def_w = 840\n",
    "\n",
    "train_counter = 0\n",
    "val_counter = 0\n",
    "n_channels = 3\n",
    "\n",
    "Train_data_seg = np.zeros((train_data_size,def_h,def_w), dtype = np.uint8)\n",
    "Val_data_seg = np.zeros((val_data_size,def_h,def_w), dtype = np.uint8)\n",
    "\n",
    "Train_data_img = np.zeros((train_data_size,def_h,def_w,n_channels), dtype = np.uint8)\n",
    "Val_data_img = np.zeros((val_data_size,def_h,def_w,n_channels), dtype = np.uint8)\n",
    "\n",
    "for i in range(len(train_data[1])):\n",
    "  #number of frames in this particular video\n",
    "  train_length[i] = len(train_data[1][i])\n",
    "  for j in range(train_length[i]):\n",
    "    seg = np.asarray(Image.open(train_data[1][i][j])).copy()\n",
    "    img = np.asarray(Image.open(train_data[0][i][j])).copy()\n",
    "    h,w = seg.shape\n",
    "    #we want to work only with 480 x 848 images\n",
    "    if w != def_w:\n",
    "      step = (w-def_w) // 2\n",
    "      if (w - def_w) % 2 == 0:\n",
    "        seg = seg[:,step:w-step]\n",
    "        img = img[:,step:w-step,:]\n",
    "      else:\n",
    "        seg = seg[:,step+1:w-step]\n",
    "        img = img[:,step+1:w-step,:]\n",
    "    #binary segmentation\n",
    "    seg[seg > 0] = 1\n",
    "    Train_data_seg[train_counter,:,:] = seg  \n",
    "    Train_data_img[train_counter,:,:,:] = img \n",
    "    train_counter += 1\n",
    "    \n",
    "for i in range(len(val_data[1])):\n",
    "  #number of frames in this particular video\n",
    "  val_length[i] = len(val_data[1][i])\n",
    "  for j in range(val_length[i]):\n",
    "    seg = np.asarray(Image.open(val_data[1][i][j])).copy()\n",
    "    img = np.asarray(Image.open(val_data[0][i][j])).copy()\n",
    "    h,w = seg.shape\n",
    "    #we want to work only with 480 x 848 images\n",
    "    if w != def_w:\n",
    "      step = (w-def_w) // 2\n",
    "      if (w - def_w) % 2 == 0:\n",
    "        seg = seg[:,step:w-step]\n",
    "        img = img[:,step:w-step,:]\n",
    "      else:\n",
    "        seg = seg[:,step+1:w-step]\n",
    "        img = img[:,step+1:w-step,:]\n",
    "    #binary segmentation\n",
    "    seg[seg > 0] = 1\n",
    "    Val_data_seg[val_counter,:,:] = seg  \n",
    "    Val_data_img[val_counter,:,:,:] = img \n",
    "    val_counter += 1"
   ]
  },
  {
   "cell_type": "code",
   "execution_count": 8,
   "metadata": {
    "colab": {
     "autoexec": {
      "startup": false,
      "wait_interval": 0
     },
     "base_uri": "https://localhost:8080/",
     "height": 151
    },
    "colab_type": "code",
    "collapsed": false,
    "executionInfo": {
     "elapsed": 588,
     "status": "ok",
     "timestamp": 1527611182956,
     "user": {
      "displayName": "Сергей Самсонов",
      "photoUrl": "https://lh3.googleusercontent.com/a/default-user=s128",
      "userId": "104353002559980884299"
     },
     "user_tz": -180
    },
    "id": "1P6xLX7hoib5",
    "outputId": "63e48ca0-d4df-42e0-bca6-5d6336b4158f"
   },
   "outputs": [
    {
     "name": "stdout",
     "output_type": "stream",
     "text": [
      "[   0   82  172  247  334  405  485  565  654  717  801  853  913  975 1051\n",
      " 1076 1162 1245 1309 1400 1480 1560 1640 1715 1775 1843 1923 2023 2088 2161\n",
      " 2213 2283 2353 2433 2503 2563 2606 2652 2722 2760 2810 2900 2935 3015 3106\n",
      " 3181 3249 3329 3395 3443 3534 3605 3660 3720 3790 3866 3946 4005 4070 4137]\n",
      "[   0   69  119  199  283  373  448  488  592  682  742  808  860  910 1000\n",
      " 1078 1128 1209 1243 1293 1340 1389 1439 1518 1558 1638 1738 1817 1860 1900]\n"
     ]
    }
   ],
   "source": [
    "train_length_cum = np.zeros(len(train_data[0]),dtype = int)\n",
    "val_length_cum = np.zeros(len(val_data[0]),dtype = int)\n",
    "\n",
    "train_length_cum = np.cumsum(train_length) - train_length\n",
    "val_length_cum = np.cumsum(val_length) - val_length\n",
    "\n",
    "print(train_length_cum)\n",
    "print(val_length_cum)"
   ]
  },
  {
   "cell_type": "code",
   "execution_count": 9,
   "metadata": {
    "colab": {
     "autoexec": {
      "startup": false,
      "wait_interval": 0
     }
    },
    "colab_type": "code",
    "collapsed": true,
    "id": "x4M9w16zkrOT"
   },
   "outputs": [],
   "source": [
    "def generate_batches_AR(dataset, X_img, X_seg, cumul, n_frames=1,batch_size=1, n_out=1, repetitions=5):\n",
    "    \"\"\"\n",
    "    Randomly draw videos and divide it to sequences of `n_frames` consecutive frames \n",
    "        with their semantic segmentation\n",
    "        \n",
    "    (`n_frames` + 1)th frame segmentation is to be predicted (target)\n",
    "    \"\"\"  \n",
    "    video_nums = np.random.permutation(np.repeat(np.arange(len(cumul)), repetitions))\n",
    "    for vid in video_nums:\n",
    "        X_batch = []\n",
    "        y_batch = []\n",
    "        #start = np.random.randint(0, len(dataset[0][vid]) - n_frames - n_out + 2, size = batch_size)\n",
    "        start = np.random.randint(0, len(dataset[0][vid]) - n_frames - n_out + 1, size = batch_size)\n",
    "        for out in range(n_out):\n",
    "            loc_X = []\n",
    "            loc_y = []\n",
    "            for b in range(batch_size):         \n",
    "                #start index of the video frame\n",
    "                start_ind = cumul[vid] + start[b]\n",
    "        \n",
    "                imgs = X_img[start_ind+out:start_ind+n_frames+out,:,:,:]\n",
    "                seg = X_seg[start_ind+out:start_ind+n_frames+out,:,:]\n",
    "        \n",
    "                imgs = torch.from_numpy(imgs.transpose(0,3,1,2)).contiguous().float().div(255)\n",
    "                seg = torch.from_numpy(seg).float()\n",
    "                \n",
    "                n,h,w = seg.size()            \n",
    "                imgs = imgs.view((n_channels*n,h,w))\n",
    "              \n",
    "                loc_X.append(torch.cat((imgs,seg[:-1,:,:]),0))\n",
    "                loc_y.append(seg[-1,:,:])\n",
    "            X_batch.append(torch.stack(loc_X))\n",
    "            y_batch.append(torch.stack(loc_y))\n",
    "        #note that it is 5-dim tensor, not 4-dim\n",
    "        yield torch.stack(X_batch), torch.stack(y_batch)"
   ]
  },
  {
   "cell_type": "code",
   "execution_count": 10,
   "metadata": {
    "collapsed": true
   },
   "outputs": [],
   "source": [
    "def generate_batches_AR_all_indices(dataset, cumul, n_frames=1, \n",
    "                                    n_out=1, step=1):\n",
    "    \"\"\"\n",
    "    generates start indices\n",
    "    \"\"\"\n",
    "    indices = []\n",
    "    for vid in range(len(dataset[0])):\n",
    "        for start in range(0, len(dataset[0][vid]) - n_frames - n_out + 1, step):\n",
    "            start_ind = cumul[vid] + start\n",
    "            #end_ind = start_ind + n_frames + n_out\n",
    "            indices.append(start_ind)\n",
    "    res = {\n",
    "        \"indices\": indices, \"n_frames\": n_frames, \"n_out\": n_out\n",
    "    }    \n",
    "    return res\n",
    "\n",
    "\n",
    "def generate_batches_AR_all(dataset, X_img, X_seg, indices_dict, batch_size=2):\n",
    "    start_indices = np.array(indices_dict[\"indices\"])\n",
    "    n_frames = indices_dict[\"n_frames\"]\n",
    "    n_out = indices_dict[\"n_out\"]\n",
    "    random_indices = np.random.permutation(np.arange(len(start_indices)))\n",
    "    for start in range(0, len(random_indices), batch_size):\n",
    "        batch_random_indices = random_indices[start: start + batch_size]\n",
    "        batch_start_indices = start_indices[batch_random_indices]\n",
    "        X_batch = []\n",
    "        y_batch = []\n",
    "        for out in range(n_out):\n",
    "            loc_X = []\n",
    "            loc_y = []\n",
    "            for b in range(batch_size):\n",
    "                if b >= len(batch_start_indices):\n",
    "                    break\n",
    "                start_ind = batch_start_indices[b]\n",
    "                \n",
    "                imgs = X_img[start_ind+out:start_ind+n_frames+out]\n",
    "                seg = X_seg[start_ind+out:start_ind+n_frames+out]\n",
    "\n",
    "                imgs = torch.from_numpy(imgs.transpose(0,3,1,2)).contiguous().float().div(255)\n",
    "                seg = torch.from_numpy(seg).float()\n",
    "                \n",
    "                n,h,w = seg.size()\n",
    "                imgs = imgs.view((n_channels * n,h,w))\n",
    "              \n",
    "                loc_X.append(torch.cat((imgs,seg[:-1]),0))\n",
    "                loc_y.append(seg[-1])\n",
    "            X_batch.append(torch.stack(loc_X))\n",
    "            y_batch.append(torch.stack(loc_y))\n",
    "        #note that it is 5-dim tensor, not 4-dim\n",
    "        yield torch.stack(X_batch), torch.stack(y_batch)"
   ]
  },
  {
   "cell_type": "code",
   "execution_count": 11,
   "metadata": {
    "colab": {
     "autoexec": {
      "startup": false,
      "wait_interval": 0
     }
    },
    "colab_type": "code",
    "collapsed": true,
    "id": "thaBl3CG4esd"
   },
   "outputs": [],
   "source": [
    "def fast_hist(pred, label, n=2):\n",
    "    k = (label >= 0) & (label < n)\n",
    "    return np.bincount(n * label[k] + pred[k], minlength=n ** 2).reshape(n, n)\n",
    "#         n * label[k].astype(int) + pred[k], minlength=n ** 2).reshape(n, n)\n",
    "\n",
    "def per_class_iu(hist):\n",
    "    return np.diag(hist) / (hist.sum(1) + hist.sum(0) - np.diag(hist))\n",
    "\n",
    "def compute_metrics(pred,label,n_classes):\n",
    "    \"\"\"\n",
    "    pred,label = np.array, shape = (batch_size,H,W), entries \\in [0,n_classes-1]\n",
    "    \"\"\"\n",
    "    iou = np.zeros(n_classes,dtype = float)\n",
    "    accuracy = []\n",
    "    for i in range(pred.shape[0]):\n",
    "        hist = fast_hist(pred[i,:,:],label[i,:,:],n_classes)\n",
    "        iou += per_class_iu(hist)\n",
    "        accuracy.append(np.diag(hist).sum()/hist.sum())\n",
    "    iou = iou / pred.shape[0]\n",
    "    mean_iou = iou.mean()\n",
    "    mean_accuracy = np.mean(accuracy)\n",
    "    return mean_accuracy,mean_iou,iou\n",
    "\n",
    "def compute_loss(out,h,w,labels,loss = 'BCE'):\n",
    "    eps = 1e-3\n",
    "    if loss == 'BCE':\n",
    "        return F.binary_cross_entropy(out,labels).mean()\n",
    "    if loss == 'gdl1':\n",
    "        loss_gdl = torch.sum(torch.mean(torch.abs(torch.abs(out[:,:,:h-1,:] - out[:,:,1:,:]) - torch.abs(labels[:,:,:h-1,:] - labels[:,:,1:,:]))),\n",
    "            torch.mean(torch.abs(torch.abs(out[:,:,:,:w-1] - out[:,:,:,1:]) - torch.abs(labels[:,:,:,:w-1] - labels[:,:,:,1:]))))\n",
    "        return loss_gdl\n",
    "    if loss == 'l1':\n",
    "        return F.l1_loss(out,labels)\n",
    "    if loss == 'combined':\n",
    "        loss_gdl = torch.sum(torch.mean(torch.abs(torch.abs(out[:,:,:h-1,:] - out[:,:,1:,:]) - torch.abs(labels[:,:,:h-1,:] - labels[:,:,1:,:]))),\n",
    "             torch.mean(torch.abs(torch.abs(out[:,:,:,:w-1] - out[:,:,:,1:]) - torch.abs(labels[:,:,:,:w-1] - labels[:,:,:,1:]))))\n",
    "        return loss_gdl + F.l1_loss(out,labels)\n",
    "    if loss == 'dice':\n",
    "        batch_losses = torch.zeros(out.shape[0])\n",
    "        for i in range(out.shape[0]):\n",
    "            x = torch.dot(out[i].view(-1),labels[i].view(-1))\n",
    "            batch_losses[i] = - torch.log(2*x/(torch.norm(out[i],2)**2 + torch.norm(labels[i],2)**2) + eps)\n",
    "        return batch_losses.mean()"
   ]
  },
  {
   "cell_type": "code",
   "execution_count": 12,
   "metadata": {
    "collapsed": true
   },
   "outputs": [],
   "source": [
    "### TRAIN\n",
    "n_out = 10\n",
    "n_classes = 2\n",
    "n_frames = 3"
   ]
  },
  {
   "cell_type": "code",
   "execution_count": 13,
   "metadata": {
    "collapsed": true
   },
   "outputs": [],
   "source": [
    "train_indices = generate_batches_AR_all_indices(train_data, train_length_cum, n_frames, n_out)\n",
    "val_indices = generate_batches_AR_all_indices(val_data, val_length_cum, n_frames, n_out)"
   ]
  },
  {
   "cell_type": "code",
   "execution_count": 14,
   "metadata": {
    "collapsed": true
   },
   "outputs": [],
   "source": [
    "num_epochs = 50\n",
    "batch_size = 2\n",
    "number_of_batches_train = int(np.ceil(len(train_indices[\"indices\"]) / batch_size))\n",
    "number_of_batches_val = int(np.ceil(len(val_indices[\"indices\"]) / batch_size))\n",
    "no_improvements_threshold = 10\n",
    "best_val_miou = 0.0\n",
    "no_improvements = 0\n",
    "\n",
    "mod_size = 1\n",
    "\n",
    "net = NowcastXStoS(n_classes=n_classes, input_frames=n_frames-1,mod_size=mod_size)\n",
    "net = net.cuda()"
   ]
  },
  {
   "cell_type": "code",
   "execution_count": 17,
   "metadata": {
    "collapsed": true
   },
   "outputs": [],
   "source": [
    "###TRAIN\n",
    "train_loss = []\n",
    "train_loss_mean = []\n",
    "acc = []\n",
    "miou = []\n",
    "iou = []\n",
    "\n",
    "np.random.seed(666)\n",
    "torch.manual_seed(666)\n",
    "optimizer = optim.Adam(net.parameters(),lr = 1e-3)"
   ]
  },
  {
   "cell_type": "code",
   "execution_count": 20,
   "metadata": {
    "collapsed": false,
    "scrolled": false
   },
   "outputs": [
    {
     "name": "stdout",
     "output_type": "stream",
     "text": [
      "acc =  [ 0.98546207  0.97768758  0.97096276  0.96513154  0.95986704  0.95521104\n",
      "  0.95077434  0.94659722  0.94276016  0.93926273  0.93609764  0.93316781\n",
      "  0.9305175   0.92809964  0.9258898   0.9238703   0.92201316  0.92034468\n",
      "  0.91888684  0.91761485]\n",
      "cur_miou =  [ 0.91667848  0.88069718  0.85095314  0.82654578  0.80523218  0.78682246\n",
      "  0.76999153  0.75439539  0.73998229  0.72665871  0.71454059  0.70328884\n",
      "  0.69294267  0.68324504  0.67406439  0.66541651  0.65730814  0.64989262\n",
      "  0.64310293  0.63692275]\n",
      "cur_iou =  [[ 0.98266716  0.85068979]\n",
      " [ 0.97377208  0.78762228]\n",
      " [ 0.96633208  0.7355742 ]\n",
      " [ 0.96000519  0.69308637]\n",
      " [ 0.95436785  0.65609652]\n",
      " [ 0.94941203  0.62423289]\n",
      " [ 0.9447424   0.59524066]\n",
      " [ 0.94039982  0.56839095]\n",
      " [ 0.93643713  0.54352744]\n",
      " [ 0.93284132  0.5204761 ]\n",
      " [ 0.92960413  0.49947705]\n",
      " [ 0.92662255  0.47995513]\n",
      " [ 0.92394513  0.46194021]\n",
      " [ 0.92152338  0.44496669]\n",
      " [ 0.91933056  0.42879821]\n",
      " [ 0.91735209  0.41348094]\n",
      " [ 0.91555189  0.39906439]\n",
      " [ 0.91396123  0.38582402]\n",
      " [ 0.91259673  0.37360914]\n",
      " [ 0.91143233  0.36241317]]\n",
      "Epoch 1 of 1 took 2760.034s\n"
     ]
    },
    {
     "data": {
      "image/png": "[encoded data removed]",
      "text/plain": [
       "<matplotlib.figure.Figure at 0x7f7dd43c6dd8>"
      ]
     },
     "metadata": {},
     "output_type": "display_data"
    },
    {
     "name": "stderr",
     "output_type": "stream",
     "text": [
      "100%|██████████| 1/1 [46:01<00:00, 2761.43s/it]\n"
     ]
    }
   ],
   "source": [
    "for epoch in tqdm(range(num_epochs)):\n",
    "    start_time = time.time()\n",
    "    net.train(True)\n",
    "    print(\"Training...\")\n",
    "    loss_sum = 0\n",
    "    for X_batch, labels in tqdm_notebook(generate_batches_AR_all(train_data, Train_data_img, Train_data_seg, \n",
    "                                                train_indices, batch_size=batch_size)):\n",
    "        cur_loss = []\n",
    "        X_step = X_batch[0,:,:,:,:]\n",
    "        labels_step = labels[0,:,:,:]\n",
    "        labels_step = labels_step.reshape(labels_step.shape[0], 1, \n",
    "                                          labels_step.shape[1], labels_step.shape[2])\n",
    "        X_step = Variable(X_step)\n",
    "        labels_step = Variable(labels_step)\n",
    "        if torch.cuda.is_available():\n",
    "            X_step = X_step.cuda()\n",
    "            labels_step = labels_step.cuda()\n",
    "        out = net(X_step)\n",
    "        loss = compute_loss(out,def_h,def_w,labels_step,'BCE')\n",
    "        loss.backward()\n",
    "        optimizer.step()\n",
    "        optimizer.zero_grad()\n",
    "        cur_loss.append(loss.cpu().data.numpy())\n",
    "        ar_out = torch.zeros(X_step.shape[0], n_out, def_h, def_w)\n",
    "        for step in range(n_out-1):\n",
    "            X_step = X_batch[1+step,:,:,:,:]\n",
    "            ar_out[:,step,:,:] = out.detach().data[:, 0]\n",
    "            upper = step + 1\n",
    "            lower = max(upper-n_frames+1,0)\n",
    "            X_step[:,-min(upper,n_frames-1):,:,:] = ar_out[:,lower:upper,:,:]\n",
    "            labels_step = labels[1+step,:,:,:]\n",
    "            labels_step = labels_step.reshape(labels_step.shape[0], 1, \n",
    "                                          labels_step.shape[1], labels_step.shape[2])\n",
    "\n",
    "            X_step = Variable(X_step)\n",
    "            labels_step = Variable(labels_step)\n",
    "            if torch.cuda.is_available():\n",
    "                X_step = X_step.cuda()\n",
    "                labels_step = labels_step.cuda()\n",
    "            out = net(X_step)\n",
    "            loss = compute_loss(out,def_h,def_w,labels_step,'BCE')\n",
    "            loss.backward()\n",
    "            optimizer.step()\n",
    "            optimizer.zero_grad()\n",
    "            cur_loss.append(loss.cpu().data.numpy())\n",
    "            #new_out = out.detanew_outch().data\n",
    "        loss_num = np.mean(cur_loss)\n",
    "        loss_sum += loss_num\n",
    "        train_loss.append(loss_num)\n",
    "\n",
    "    del loss, X_batch, labels, X_step, labels_step, ar_out, out\n",
    "    torch.cuda.empty_cache()\n",
    "\n",
    "    train_loss_mean.append(loss_sum / number_of_batches_train)\n",
    "    net.eval()\n",
    "    inner_acc = np.zeros((n_out, number_of_batches_val),dtype = float)\n",
    "    inner_miou = np.zeros((n_out, number_of_batches_val),dtype = float)\n",
    "    inner_iou = np.zeros((n_out, number_of_batches_val,n_classes),dtype = float)\n",
    "    \n",
    "    #save_model(net, optimizer, epoch, os.path.join(save_dir, '{}_epoch.ckpt'.format(epoch)))\n",
    "    \n",
    "    print(\"Validation...\")\n",
    "    counter = 0\n",
    "    for X_batch, labels in generate_batches_AR_all(val_data, Val_data_img, Val_data_seg, \n",
    "                                                val_indices, batch_size=batch_size):\n",
    "        X_step = X_batch[0,:,:,:,:]\n",
    "        with torch.no_grad():\n",
    "            out = net(Variable(X_step).cuda())\n",
    "        pred = out.cpu().data.numpy()\n",
    "        pred[pred > 0.5] = 1.0\n",
    "        pred[pred <= 0.5] = 0.0\n",
    "                \n",
    "        pred = pred.reshape(X_step.shape[0], def_h, def_w)\n",
    "        \n",
    "        acc_loc,miou_loc,iou_loc = compute_metrics(pred.astype(int),labels[0,:,:,:].numpy().astype(int),\n",
    "                                                   n_classes=2)\n",
    "        inner_acc[0,counter] = acc_loc\n",
    "        inner_miou[0,counter] = miou_loc\n",
    "        inner_iou[0,counter,:] = iou_loc\n",
    "        ar_out = torch.zeros(X_step.shape[0], n_out, def_h, def_w)\n",
    "        for step in range(n_out-1):\n",
    "            X_step = X_batch[1+step,:,:,:,:]\n",
    "            ar_out[:,step,:,:] = out.detach().data[:, 0]\n",
    "            upper = step + 1\n",
    "            lower = max(upper-n_frames+1,0)\n",
    "            X_step[:,-min(upper,n_frames-1):,:,:] = ar_out[:,lower:upper,:,:]\n",
    "            X_step = Variable(X_step)\n",
    "            if torch.cuda.is_available():\n",
    "                X_step = X_step.cuda()\n",
    "            out = net(X_step)\n",
    "            pred = out.cpu().data.numpy()\n",
    "            pred[pred > 0.5] = 1.0\n",
    "            pred[pred <= 0.5] = 0.0\n",
    "\n",
    "            pred = pred.reshape(X_step.shape[0], def_h, def_w)\n",
    "            \n",
    "            acc_loc,miou_loc,iou_loc = compute_metrics(pred.astype(int),labels[1+step,:,:,:].numpy().astype(int),\n",
    "                                                       n_classes=2)\n",
    "            inner_acc[1+step,counter] = acc_loc\n",
    "            inner_miou[1+step,counter] = miou_loc\n",
    "            inner_iou[1+step,counter,:] = iou_loc\n",
    "        counter += 1\n",
    "        \n",
    "    del X_batch, labels, X_step\n",
    "    torch.cuda.empty_cache()\n",
    "    \n",
    "    cur_acc = inner_acc.mean(axis = 1)\n",
    "    cur_miou = inner_miou.mean(axis = 1)\n",
    "    cur_iou = inner_iou.mean(axis = 1)\n",
    "    \n",
    "    display.clear_output(wait=True)\n",
    "    \n",
    "    cur_miou_mean = cur_miou.mean()\n",
    "    \n",
    "    if cur_miou_mean > best_val_miou:\n",
    "        print(\"saving model on epoch number %d with val miou %.3f...\" % \n",
    "             (epoch + 1, cur_miou_mean))\n",
    "        torch.save(net.state_dict(), 'model_xs2s_ar_bce_nframes3_nout10.pt')\n",
    "        best_val_miou = cur_miou_mean\n",
    "        no_improvements = 0\n",
    "    else:\n",
    "        no_improvements += 1\n",
    "        if no_improvements > no_improvements_threshold:\n",
    "            print(\"There were no improvements during last %d epochs,\\nending on epoch %d\" % \n",
    "               (no_improvements_threshold, epoch + 1))\n",
    "            break\n",
    "    \n",
    "    print(\"acc = \",cur_acc)\n",
    "    print(\"cur_miou = \",cur_miou)\n",
    "    print(\"cur_iou = \",cur_iou)\n",
    "    acc.append(cur_acc)\n",
    "    miou.append(cur_miou)\n",
    "    iou.append(cur_iou)\n",
    "    print(\"Epoch {} of {} took {:.3f}s\".format(\n",
    "        epoch + 1, num_epochs, time.time() - start_time))\n",
    "    plt.figure(figsize=(16, 8))\n",
    "    plt.subplot(121)\n",
    "    plt.plot(train_loss, 'b')\n",
    "    plt.title(\"Train loss\")\n",
    "    plt.xlabel(\"#iteration\")\n",
    "    plt.ylabel(\"loss\")\n",
    "    plt.subplot(122)\n",
    "    plt.plot(train_loss_mean)\n",
    "    plt.xlabel('Epoch number')\n",
    "    plt.ylabel('Loss mean')\n",
    "    plt.show()"
   ]
  },
  {
   "cell_type": "code",
   "execution_count": 34,
   "metadata": {
    "collapsed": false
   },
   "outputs": [
    {
     "data": {
      "image/png": "[encoded data removed]",
      "text/plain": [
       "<matplotlib.figure.Figure at 0x7f7dbf67d1d0>"
      ]
     },
     "metadata": {},
     "output_type": "display_data"
    }
   ],
   "source": [
    "plt.figure(figsize=(12, 8))\n",
    "plt.plot(acc[0], lw=2)\n",
    "plt.title(\"S2S-dil AR nout5, Accuracy\", size=20)\n",
    "plt.xlabel(\"Epoch\", size=15)\n",
    "plt.ylabel(\"Accuracy\", size=15)\n",
    "plt.grid(color='lightgray', linestyle='dashed')\n",
    "plt.show()"
   ]
  },
  {
   "cell_type": "code",
   "execution_count": null,
   "metadata": {
    "collapsed": true
   },
   "outputs": [],
   "source": []
  },
  {
   "cell_type": "code",
   "execution_count": null,
   "metadata": {
    "collapsed": true
   },
   "outputs": [],
   "source": []
  },
  {
   "cell_type": "code",
   "execution_count": 24,
   "metadata": {
    "collapsed": false
   },
   "outputs": [
    {
     "data": {
      "image/png": "[encoded data removed]",
      "text/plain": [
       "<matplotlib.figure.Figure at 0x7f7dd15af320>"
      ]
     },
     "metadata": {},
     "output_type": "display_data"
    }
   ],
   "source": [
    "plt.figure(figsize=(10, 8))\n",
    "lw = 3\n",
    "x = range(1, 21)\n",
    "plt.plot(x, iou[0][:,0], label='xs2s, background', lw=lw, c='b')\n",
    "plt.plot(x, iou[0][:,1], label='xs2s, object', lw=lw, c='r')\n",
    "plt.plot(x, miou[0], label='s2s, mean', lw=lw, c='g')\n",
    "plt.plot(x, iou_base[0][:,0], label='baseline, background', lw=lw, linestyle='--', c='b')\n",
    "plt.plot(x, iou_base[0][:,1], label='baseline, object', lw=lw, linestyle='--', c='r')\n",
    "plt.plot(x, miou_base[0], label='baseline, mean', \n",
    "         lw=lw, c='g', linestyle='--')\n",
    "plt.xlabel('Frame', size=15)\n",
    "plt.ylabel('IoU', size=15)\n",
    "plt.title('XS2S Predicting 20 frames into the future (fitted only for 10 frames)', size=18)\n",
    "plt.grid(color='lightgray', linestyle='dashed')\n",
    "plt.legend(prop={\"size\":12})\n",
    "plt.show()"
   ]
  },
  {
   "cell_type": "code",
   "execution_count": 27,
   "metadata": {
    "collapsed": true
   },
   "outputs": [],
   "source": [
    "def save_files(acc, miou, iou, train_loss, train_loss_mean, path):\n",
    "    d = {\n",
    "        \"acc\": [list(x) for x in acc],\n",
    "        \"iou\": [list(y) for x in iou for y in x],\n",
    "        \"miou\": [list(x) for x in miou],\n",
    "        \"loss\": [float(x) for x in train_loss],\n",
    "        \"loss_mean\": [float(x) for x in train_loss_mean]\n",
    "    }\n",
    "    with open(path, 'w') as f:\n",
    "        json.dump(d, f)\n",
    "\n",
    "path = 'saved_files/XS2S_AR_colab_4_new__nout5_Copy1.json'\n",
    "save_files(acc, miou, iou, train_loss, train_loss_mean, path)"
   ]
  },
  {
   "cell_type": "code",
   "execution_count": null,
   "metadata": {
    "colab": {
     "autoexec": {
      "startup": false,
      "wait_interval": 0
     }
    },
    "colab_type": "code",
    "collapsed": true,
    "id": "nFtaOPzY9-Qt"
   },
   "outputs": [],
   "source": []
  }
 ],
 "metadata": {
  "accelerator": "GPU",
  "colab": {
   "collapsed_sections": [],
   "default_view": {},
   "name": "XS2S_AR_colab.ipynb",
   "provenance": [
    {
     "file_id": "1CfBGrp3B3U2ycq0H1ImiPU-jImMgmHXW",
     "timestamp": 1527418499176
    }
   ],
   "version": "0.3.2",
   "views": {}
  },
  "kernelspec": {
   "display_name": "Python 3",
   "language": "python",
   "name": "python3"
  },
  "language_info": {
   "codemirror_mode": {
    "name": "ipython",
    "version": 3
   },
   "file_extension": ".py",
   "mimetype": "text/x-python",
   "name": "python",
   "nbconvert_exporter": "python",
   "pygments_lexer": "ipython3",
   "version": "3.6.0"
  }
 },
 "nbformat": 4,
 "nbformat_minor": 1
}
